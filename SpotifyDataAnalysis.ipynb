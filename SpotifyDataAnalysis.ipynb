{
  "nbformat": 4,
  "nbformat_minor": 0,
  "metadata": {
    "colab": {
      "provenance": [],
      "mount_file_id": "1Z49XXtotwPMtmbGdSrd37tXuL9HCXR3g",
      "authorship_tag": "ABX9TyNdtL2kUZXjaLzIORMVXP5N",
      "include_colab_link": true
    },
    "kernelspec": {
      "name": "python3",
      "display_name": "Python 3"
    },
    "language_info": {
      "name": "python"
    }
  },
  "cells": [
    {
      "cell_type": "markdown",
      "metadata": {
        "id": "view-in-github",
        "colab_type": "text"
      },
      "source": [
        "<a href=\"https://colab.research.google.com/github/Shubhangini19/spotifyDataAnalysis/blob/main/SpotifyDataAnalysis.ipynb\" target=\"_parent\"><img src=\"https://colab.research.google.com/assets/colab-badge.svg\" alt=\"Open In Colab\"/></a>"
      ]
    },
    {
      "cell_type": "markdown",
      "source": [
        "## **Project Name- Spotify Data Analysis**"
      ],
      "metadata": {
        "id": "O5oueylo4mqU"
      }
    },
    {
      "cell_type": "markdown",
      "source": [
        "**Name** - Shubhangini Ganguli\n",
        "\n",
        "**Type** - EDA\n",
        "\n",
        "\n",
        "\n"
      ],
      "metadata": {
        "id": "yvjMfRDl4mSy"
      }
    },
    {
      "cell_type": "markdown",
      "source": [
        "# **SUMMARY**\n",
        "\n"
      ],
      "metadata": {
        "id": "4ilgigxJ5RrB"
      }
    },
    {
      "cell_type": "markdown",
      "source": [
        "# **IMPORTING LIBRARIES**"
      ],
      "metadata": {
        "id": "0E49Q4ZM6QtE"
      }
    },
    {
      "cell_type": "code",
      "source": [
        "import numpy as np\n",
        "import pandas as pd\n",
        "import missingno as msno\n",
        "import matplotlib.pyplot as plt\n",
        "import seaborn as sns"
      ],
      "metadata": {
        "id": "1QHUVSP75IEQ"
      },
      "execution_count": 1,
      "outputs": []
    },
    {
      "cell_type": "markdown",
      "source": [
        "# **Mounting the data** "
      ],
      "metadata": {
        "id": "AfcSNRGr6e_b"
      }
    },
    {
      "cell_type": "code",
      "execution_count": 2,
      "metadata": {
        "colab": {
          "base_uri": "https://localhost:8080/"
        },
        "id": "3LwGikpJ2rIQ",
        "outputId": "c31aebc7-30c8-4854-8a4c-7bd9738659c0"
      },
      "outputs": [
        {
          "output_type": "stream",
          "name": "stdout",
          "text": [
            "Mounted at /content/drive\n"
          ]
        }
      ],
      "source": [
        "from google.colab import drive\n",
        "drive.mount(\"/content/drive\")"
      ]
    },
    {
      "cell_type": "markdown",
      "source": [
        "# **Reading CSV**"
      ],
      "metadata": {
        "id": "XjBa06F37N-J"
      }
    },
    {
      "cell_type": "code",
      "source": [
        "df = pd.read_csv('/content/spotifyAnalysis.csv')"
      ],
      "metadata": {
        "id": "qFzSX43V7ABC"
      },
      "execution_count": 3,
      "outputs": []
    },
    {
      "cell_type": "markdown",
      "source": [
        "# **Know your Data** "
      ],
      "metadata": {
        "id": "Dm_VxSRU7iOp"
      }
    },
    {
      "cell_type": "code",
      "source": [
        "df.head().T"
      ],
      "metadata": {
        "colab": {
          "base_uri": "https://localhost:8080/",
          "height": 488
        },
        "id": "-8oLCdEJ7ZR7",
        "outputId": "f6814d59-223f-4ec6-8af0-ce476cadde0c"
      },
      "execution_count": 4,
      "outputs": [
        {
          "output_type": "execute_result",
          "data": {
            "text/plain": [
              "                                                                   0  \\\n",
              "title                                               Hey, Soul Sister   \n",
              "artist                                                         Train   \n",
              "the genre of the track                                    neo mellow   \n",
              "year                                                            2010   \n",
              "Beats.Per.Minute -The tempo of the song                           97   \n",
              "Energy- The energy of a song - the higher the v...                89   \n",
              "Danceability - The higher the value, the easier...                67   \n",
              "Loudness/dB - The higher the value, the louder ...                -4   \n",
              "Liveness - The higher the value, the more likel...                 8   \n",
              "Valence - The higher the value, the more positi...                80   \n",
              "Length - The duration of the song                                217   \n",
              "Acousticness - The higher the value the more ac...                19   \n",
              "Speechiness - The higher the value the more spo...                 4   \n",
              "Popularity- The higher the value the more popul...                83   \n",
              "\n",
              "                                                                       1  \\\n",
              "title                                               Love The Way You Lie   \n",
              "artist                                                            Eminem   \n",
              "the genre of the track                                   detroit hip hop   \n",
              "year                                                                2010   \n",
              "Beats.Per.Minute -The tempo of the song                               87   \n",
              "Energy- The energy of a song - the higher the v...                    93   \n",
              "Danceability - The higher the value, the easier...                    75   \n",
              "Loudness/dB - The higher the value, the louder ...                    -5   \n",
              "Liveness - The higher the value, the more likel...                    52   \n",
              "Valence - The higher the value, the more positi...                    64   \n",
              "Length - The duration of the song                                    263   \n",
              "Acousticness - The higher the value the more ac...                    24   \n",
              "Speechiness - The higher the value the more spo...                    23   \n",
              "Popularity- The higher the value the more popul...                    82   \n",
              "\n",
              "                                                            2            3  \\\n",
              "title                                                 TiK ToK  Bad Romance   \n",
              "artist                                                  Kesha    Lady Gaga   \n",
              "the genre of the track                              dance pop    dance pop   \n",
              "year                                                     2010         2010   \n",
              "Beats.Per.Minute -The tempo of the song                   120          119   \n",
              "Energy- The energy of a song - the higher the v...         84           92   \n",
              "Danceability - The higher the value, the easier...         76           70   \n",
              "Loudness/dB - The higher the value, the louder ...         -3           -4   \n",
              "Liveness - The higher the value, the more likel...         29            8   \n",
              "Valence - The higher the value, the more positi...         71           71   \n",
              "Length - The duration of the song                         200          295   \n",
              "Acousticness - The higher the value the more ac...         10            0   \n",
              "Speechiness - The higher the value the more spo...         14            4   \n",
              "Popularity- The higher the value the more popul...         80           79   \n",
              "\n",
              "                                                                       4  \n",
              "title                                               Just the Way You Are  \n",
              "artist                                                        Bruno Mars  \n",
              "the genre of the track                                               pop  \n",
              "year                                                                2010  \n",
              "Beats.Per.Minute -The tempo of the song                              109  \n",
              "Energy- The energy of a song - the higher the v...                    84  \n",
              "Danceability - The higher the value, the easier...                    64  \n",
              "Loudness/dB - The higher the value, the louder ...                    -5  \n",
              "Liveness - The higher the value, the more likel...                     9  \n",
              "Valence - The higher the value, the more positi...                    43  \n",
              "Length - The duration of the song                                    221  \n",
              "Acousticness - The higher the value the more ac...                     2  \n",
              "Speechiness - The higher the value the more spo...                     4  \n",
              "Popularity- The higher the value the more popul...                    78  "
            ],
            "text/html": [
              "\n",
              "  <div id=\"df-04f07ff9-579b-4197-a792-294ef144e0b0\">\n",
              "    <div class=\"colab-df-container\">\n",
              "      <div>\n",
              "<style scoped>\n",
              "    .dataframe tbody tr th:only-of-type {\n",
              "        vertical-align: middle;\n",
              "    }\n",
              "\n",
              "    .dataframe tbody tr th {\n",
              "        vertical-align: top;\n",
              "    }\n",
              "\n",
              "    .dataframe thead th {\n",
              "        text-align: right;\n",
              "    }\n",
              "</style>\n",
              "<table border=\"1\" class=\"dataframe\">\n",
              "  <thead>\n",
              "    <tr style=\"text-align: right;\">\n",
              "      <th></th>\n",
              "      <th>0</th>\n",
              "      <th>1</th>\n",
              "      <th>2</th>\n",
              "      <th>3</th>\n",
              "      <th>4</th>\n",
              "    </tr>\n",
              "  </thead>\n",
              "  <tbody>\n",
              "    <tr>\n",
              "      <th>title</th>\n",
              "      <td>Hey, Soul Sister</td>\n",
              "      <td>Love The Way You Lie</td>\n",
              "      <td>TiK ToK</td>\n",
              "      <td>Bad Romance</td>\n",
              "      <td>Just the Way You Are</td>\n",
              "    </tr>\n",
              "    <tr>\n",
              "      <th>artist</th>\n",
              "      <td>Train</td>\n",
              "      <td>Eminem</td>\n",
              "      <td>Kesha</td>\n",
              "      <td>Lady Gaga</td>\n",
              "      <td>Bruno Mars</td>\n",
              "    </tr>\n",
              "    <tr>\n",
              "      <th>the genre of the track</th>\n",
              "      <td>neo mellow</td>\n",
              "      <td>detroit hip hop</td>\n",
              "      <td>dance pop</td>\n",
              "      <td>dance pop</td>\n",
              "      <td>pop</td>\n",
              "    </tr>\n",
              "    <tr>\n",
              "      <th>year</th>\n",
              "      <td>2010</td>\n",
              "      <td>2010</td>\n",
              "      <td>2010</td>\n",
              "      <td>2010</td>\n",
              "      <td>2010</td>\n",
              "    </tr>\n",
              "    <tr>\n",
              "      <th>Beats.Per.Minute -The tempo of the song</th>\n",
              "      <td>97</td>\n",
              "      <td>87</td>\n",
              "      <td>120</td>\n",
              "      <td>119</td>\n",
              "      <td>109</td>\n",
              "    </tr>\n",
              "    <tr>\n",
              "      <th>Energy- The energy of a song - the higher the value, the more energtic</th>\n",
              "      <td>89</td>\n",
              "      <td>93</td>\n",
              "      <td>84</td>\n",
              "      <td>92</td>\n",
              "      <td>84</td>\n",
              "    </tr>\n",
              "    <tr>\n",
              "      <th>Danceability - The higher the value, the easier it is to dance to this song</th>\n",
              "      <td>67</td>\n",
              "      <td>75</td>\n",
              "      <td>76</td>\n",
              "      <td>70</td>\n",
              "      <td>64</td>\n",
              "    </tr>\n",
              "    <tr>\n",
              "      <th>Loudness/dB - The higher the value, the louder the song</th>\n",
              "      <td>-4</td>\n",
              "      <td>-5</td>\n",
              "      <td>-3</td>\n",
              "      <td>-4</td>\n",
              "      <td>-5</td>\n",
              "    </tr>\n",
              "    <tr>\n",
              "      <th>Liveness - The higher the value, the more likely the song is a live recording</th>\n",
              "      <td>8</td>\n",
              "      <td>52</td>\n",
              "      <td>29</td>\n",
              "      <td>8</td>\n",
              "      <td>9</td>\n",
              "    </tr>\n",
              "    <tr>\n",
              "      <th>Valence - The higher the value, the more positive mood for the song</th>\n",
              "      <td>80</td>\n",
              "      <td>64</td>\n",
              "      <td>71</td>\n",
              "      <td>71</td>\n",
              "      <td>43</td>\n",
              "    </tr>\n",
              "    <tr>\n",
              "      <th>Length - The duration of the song</th>\n",
              "      <td>217</td>\n",
              "      <td>263</td>\n",
              "      <td>200</td>\n",
              "      <td>295</td>\n",
              "      <td>221</td>\n",
              "    </tr>\n",
              "    <tr>\n",
              "      <th>Acousticness - The higher the value the more acoustic the song is</th>\n",
              "      <td>19</td>\n",
              "      <td>24</td>\n",
              "      <td>10</td>\n",
              "      <td>0</td>\n",
              "      <td>2</td>\n",
              "    </tr>\n",
              "    <tr>\n",
              "      <th>Speechiness - The higher the value the more spoken word the song contains</th>\n",
              "      <td>4</td>\n",
              "      <td>23</td>\n",
              "      <td>14</td>\n",
              "      <td>4</td>\n",
              "      <td>4</td>\n",
              "    </tr>\n",
              "    <tr>\n",
              "      <th>Popularity- The higher the value the more popular the song is</th>\n",
              "      <td>83</td>\n",
              "      <td>82</td>\n",
              "      <td>80</td>\n",
              "      <td>79</td>\n",
              "      <td>78</td>\n",
              "    </tr>\n",
              "  </tbody>\n",
              "</table>\n",
              "</div>\n",
              "      <button class=\"colab-df-convert\" onclick=\"convertToInteractive('df-04f07ff9-579b-4197-a792-294ef144e0b0')\"\n",
              "              title=\"Convert this dataframe to an interactive table.\"\n",
              "              style=\"display:none;\">\n",
              "        \n",
              "  <svg xmlns=\"http://www.w3.org/2000/svg\" height=\"24px\"viewBox=\"0 0 24 24\"\n",
              "       width=\"24px\">\n",
              "    <path d=\"M0 0h24v24H0V0z\" fill=\"none\"/>\n",
              "    <path d=\"M18.56 5.44l.94 2.06.94-2.06 2.06-.94-2.06-.94-.94-2.06-.94 2.06-2.06.94zm-11 1L8.5 8.5l.94-2.06 2.06-.94-2.06-.94L8.5 2.5l-.94 2.06-2.06.94zm10 10l.94 2.06.94-2.06 2.06-.94-2.06-.94-.94-2.06-.94 2.06-2.06.94z\"/><path d=\"M17.41 7.96l-1.37-1.37c-.4-.4-.92-.59-1.43-.59-.52 0-1.04.2-1.43.59L10.3 9.45l-7.72 7.72c-.78.78-.78 2.05 0 2.83L4 21.41c.39.39.9.59 1.41.59.51 0 1.02-.2 1.41-.59l7.78-7.78 2.81-2.81c.8-.78.8-2.07 0-2.86zM5.41 20L4 18.59l7.72-7.72 1.47 1.35L5.41 20z\"/>\n",
              "  </svg>\n",
              "      </button>\n",
              "      \n",
              "  <style>\n",
              "    .colab-df-container {\n",
              "      display:flex;\n",
              "      flex-wrap:wrap;\n",
              "      gap: 12px;\n",
              "    }\n",
              "\n",
              "    .colab-df-convert {\n",
              "      background-color: #E8F0FE;\n",
              "      border: none;\n",
              "      border-radius: 50%;\n",
              "      cursor: pointer;\n",
              "      display: none;\n",
              "      fill: #1967D2;\n",
              "      height: 32px;\n",
              "      padding: 0 0 0 0;\n",
              "      width: 32px;\n",
              "    }\n",
              "\n",
              "    .colab-df-convert:hover {\n",
              "      background-color: #E2EBFA;\n",
              "      box-shadow: 0px 1px 2px rgba(60, 64, 67, 0.3), 0px 1px 3px 1px rgba(60, 64, 67, 0.15);\n",
              "      fill: #174EA6;\n",
              "    }\n",
              "\n",
              "    [theme=dark] .colab-df-convert {\n",
              "      background-color: #3B4455;\n",
              "      fill: #D2E3FC;\n",
              "    }\n",
              "\n",
              "    [theme=dark] .colab-df-convert:hover {\n",
              "      background-color: #434B5C;\n",
              "      box-shadow: 0px 1px 3px 1px rgba(0, 0, 0, 0.15);\n",
              "      filter: drop-shadow(0px 1px 2px rgba(0, 0, 0, 0.3));\n",
              "      fill: #FFFFFF;\n",
              "    }\n",
              "  </style>\n",
              "\n",
              "      <script>\n",
              "        const buttonEl =\n",
              "          document.querySelector('#df-04f07ff9-579b-4197-a792-294ef144e0b0 button.colab-df-convert');\n",
              "        buttonEl.style.display =\n",
              "          google.colab.kernel.accessAllowed ? 'block' : 'none';\n",
              "\n",
              "        async function convertToInteractive(key) {\n",
              "          const element = document.querySelector('#df-04f07ff9-579b-4197-a792-294ef144e0b0');\n",
              "          const dataTable =\n",
              "            await google.colab.kernel.invokeFunction('convertToInteractive',\n",
              "                                                     [key], {});\n",
              "          if (!dataTable) return;\n",
              "\n",
              "          const docLinkHtml = 'Like what you see? Visit the ' +\n",
              "            '<a target=\"_blank\" href=https://colab.research.google.com/notebooks/data_table.ipynb>data table notebook</a>'\n",
              "            + ' to learn more about interactive tables.';\n",
              "          element.innerHTML = '';\n",
              "          dataTable['output_type'] = 'display_data';\n",
              "          await google.colab.output.renderOutput(dataTable, element);\n",
              "          const docLink = document.createElement('div');\n",
              "          docLink.innerHTML = docLinkHtml;\n",
              "          element.appendChild(docLink);\n",
              "        }\n",
              "      </script>\n",
              "    </div>\n",
              "  </div>\n",
              "  "
            ]
          },
          "metadata": {},
          "execution_count": 4
        }
      ]
    },
    {
      "cell_type": "code",
      "source": [
        "df.tail().T"
      ],
      "metadata": {
        "colab": {
          "base_uri": "https://localhost:8080/",
          "height": 706
        },
        "id": "TtkPDP2S7xYR",
        "outputId": "e9580688-9f68-4cd3-d290-6ff040a0bcc6"
      },
      "execution_count": 5,
      "outputs": [
        {
          "output_type": "execute_result",
          "data": {
            "text/plain": [
              "                                                                                    598  \\\n",
              "title                                               Find U Again (feat. Camila Cabello)   \n",
              "artist                                                                      Mark Ronson   \n",
              "the genre of the track                                                        dance pop   \n",
              "year                                                                               2019   \n",
              "Beats.Per.Minute -The tempo of the song                                             104   \n",
              "Energy- The energy of a song - the higher the v...                                   66   \n",
              "Danceability - The higher the value, the easier...                                   61   \n",
              "Loudness/dB - The higher the value, the louder ...                                   -7   \n",
              "Liveness - The higher the value, the more likel...                                   20   \n",
              "Valence - The higher the value, the more positi...                                   16   \n",
              "Length - The duration of the song                                                   176   \n",
              "Acousticness - The higher the value the more ac...                                    1   \n",
              "Speechiness - The higher the value the more spo...                                    3   \n",
              "Popularity- The higher the value the more popul...                                   75   \n",
              "\n",
              "                                                                                              599  \\\n",
              "title                                               Cross Me (feat. Chance the Rapper & PnB Rock)   \n",
              "artist                                                                                 Ed Sheeran   \n",
              "the genre of the track                                                                        pop   \n",
              "year                                                                                         2019   \n",
              "Beats.Per.Minute -The tempo of the song                                                        95   \n",
              "Energy- The energy of a song - the higher the v...                                             79   \n",
              "Danceability - The higher the value, the easier...                                             75   \n",
              "Loudness/dB - The higher the value, the louder ...                                             -6   \n",
              "Liveness - The higher the value, the more likel...                                              7   \n",
              "Valence - The higher the value, the more positi...                                             61   \n",
              "Length - The duration of the song                                                             206   \n",
              "Acousticness - The higher the value the more ac...                                             21   \n",
              "Speechiness - The higher the value the more spo...                                             12   \n",
              "Popularity- The higher the value the more popul...                                             75   \n",
              "\n",
              "                                                                                                  600  \\\n",
              "title                                               No Brainer (feat. Justin Bieber, Chance the Ra...   \n",
              "artist                                                                                      DJ Khaled   \n",
              "the genre of the track                                                                      dance pop   \n",
              "year                                                                                             2019   \n",
              "Beats.Per.Minute -The tempo of the song                                                           136   \n",
              "Energy- The energy of a song - the higher the v...                                                 76   \n",
              "Danceability - The higher the value, the easier...                                                 53   \n",
              "Loudness/dB - The higher the value, the louder ...                                                 -5   \n",
              "Liveness - The higher the value, the more likel...                                                  9   \n",
              "Valence - The higher the value, the more positi...                                                 65   \n",
              "Length - The duration of the song                                                                 260   \n",
              "Acousticness - The higher the value the more ac...                                                  7   \n",
              "Speechiness - The higher the value the more spo...                                                 34   \n",
              "Popularity- The higher the value the more popul...                                                 70   \n",
              "\n",
              "                                                                                                601  \\\n",
              "title                                               Nothing Breaks Like a Heart (feat. Miley Cyrus)   \n",
              "artist                                                                                  Mark Ronson   \n",
              "the genre of the track                                                                    dance pop   \n",
              "year                                                                                           2019   \n",
              "Beats.Per.Minute -The tempo of the song                                                         114   \n",
              "Energy- The energy of a song - the higher the v...                                               79   \n",
              "Danceability - The higher the value, the easier...                                               60   \n",
              "Loudness/dB - The higher the value, the louder ...                                               -6   \n",
              "Liveness - The higher the value, the more likel...                                               42   \n",
              "Valence - The higher the value, the more positi...                                               24   \n",
              "Length - The duration of the song                                                               217   \n",
              "Acousticness - The higher the value the more ac...                                                1   \n",
              "Speechiness - The higher the value the more spo...                                                7   \n",
              "Popularity- The higher the value the more popul...                                               69   \n",
              "\n",
              "                                                                 602  \n",
              "title                                               Kills You Slowly  \n",
              "artist                                              The Chainsmokers  \n",
              "the genre of the track                                    electropop  \n",
              "year                                                            2019  \n",
              "Beats.Per.Minute -The tempo of the song                          150  \n",
              "Energy- The energy of a song - the higher the v...                44  \n",
              "Danceability - The higher the value, the easier...                70  \n",
              "Loudness/dB - The higher the value, the louder ...                -9  \n",
              "Liveness - The higher the value, the more likel...                13  \n",
              "Valence - The higher the value, the more positi...                23  \n",
              "Length - The duration of the song                                213  \n",
              "Acousticness - The higher the value the more ac...                 6  \n",
              "Speechiness - The higher the value the more spo...                 6  \n",
              "Popularity- The higher the value the more popul...                67  "
            ],
            "text/html": [
              "\n",
              "  <div id=\"df-ebee3f23-7b66-474d-b76d-1e8fa0033d6a\">\n",
              "    <div class=\"colab-df-container\">\n",
              "      <div>\n",
              "<style scoped>\n",
              "    .dataframe tbody tr th:only-of-type {\n",
              "        vertical-align: middle;\n",
              "    }\n",
              "\n",
              "    .dataframe tbody tr th {\n",
              "        vertical-align: top;\n",
              "    }\n",
              "\n",
              "    .dataframe thead th {\n",
              "        text-align: right;\n",
              "    }\n",
              "</style>\n",
              "<table border=\"1\" class=\"dataframe\">\n",
              "  <thead>\n",
              "    <tr style=\"text-align: right;\">\n",
              "      <th></th>\n",
              "      <th>598</th>\n",
              "      <th>599</th>\n",
              "      <th>600</th>\n",
              "      <th>601</th>\n",
              "      <th>602</th>\n",
              "    </tr>\n",
              "  </thead>\n",
              "  <tbody>\n",
              "    <tr>\n",
              "      <th>title</th>\n",
              "      <td>Find U Again (feat. Camila Cabello)</td>\n",
              "      <td>Cross Me (feat. Chance the Rapper &amp; PnB Rock)</td>\n",
              "      <td>No Brainer (feat. Justin Bieber, Chance the Ra...</td>\n",
              "      <td>Nothing Breaks Like a Heart (feat. Miley Cyrus)</td>\n",
              "      <td>Kills You Slowly</td>\n",
              "    </tr>\n",
              "    <tr>\n",
              "      <th>artist</th>\n",
              "      <td>Mark Ronson</td>\n",
              "      <td>Ed Sheeran</td>\n",
              "      <td>DJ Khaled</td>\n",
              "      <td>Mark Ronson</td>\n",
              "      <td>The Chainsmokers</td>\n",
              "    </tr>\n",
              "    <tr>\n",
              "      <th>the genre of the track</th>\n",
              "      <td>dance pop</td>\n",
              "      <td>pop</td>\n",
              "      <td>dance pop</td>\n",
              "      <td>dance pop</td>\n",
              "      <td>electropop</td>\n",
              "    </tr>\n",
              "    <tr>\n",
              "      <th>year</th>\n",
              "      <td>2019</td>\n",
              "      <td>2019</td>\n",
              "      <td>2019</td>\n",
              "      <td>2019</td>\n",
              "      <td>2019</td>\n",
              "    </tr>\n",
              "    <tr>\n",
              "      <th>Beats.Per.Minute -The tempo of the song</th>\n",
              "      <td>104</td>\n",
              "      <td>95</td>\n",
              "      <td>136</td>\n",
              "      <td>114</td>\n",
              "      <td>150</td>\n",
              "    </tr>\n",
              "    <tr>\n",
              "      <th>Energy- The energy of a song - the higher the value, the more energtic</th>\n",
              "      <td>66</td>\n",
              "      <td>79</td>\n",
              "      <td>76</td>\n",
              "      <td>79</td>\n",
              "      <td>44</td>\n",
              "    </tr>\n",
              "    <tr>\n",
              "      <th>Danceability - The higher the value, the easier it is to dance to this song</th>\n",
              "      <td>61</td>\n",
              "      <td>75</td>\n",
              "      <td>53</td>\n",
              "      <td>60</td>\n",
              "      <td>70</td>\n",
              "    </tr>\n",
              "    <tr>\n",
              "      <th>Loudness/dB - The higher the value, the louder the song</th>\n",
              "      <td>-7</td>\n",
              "      <td>-6</td>\n",
              "      <td>-5</td>\n",
              "      <td>-6</td>\n",
              "      <td>-9</td>\n",
              "    </tr>\n",
              "    <tr>\n",
              "      <th>Liveness - The higher the value, the more likely the song is a live recording</th>\n",
              "      <td>20</td>\n",
              "      <td>7</td>\n",
              "      <td>9</td>\n",
              "      <td>42</td>\n",
              "      <td>13</td>\n",
              "    </tr>\n",
              "    <tr>\n",
              "      <th>Valence - The higher the value, the more positive mood for the song</th>\n",
              "      <td>16</td>\n",
              "      <td>61</td>\n",
              "      <td>65</td>\n",
              "      <td>24</td>\n",
              "      <td>23</td>\n",
              "    </tr>\n",
              "    <tr>\n",
              "      <th>Length - The duration of the song</th>\n",
              "      <td>176</td>\n",
              "      <td>206</td>\n",
              "      <td>260</td>\n",
              "      <td>217</td>\n",
              "      <td>213</td>\n",
              "    </tr>\n",
              "    <tr>\n",
              "      <th>Acousticness - The higher the value the more acoustic the song is</th>\n",
              "      <td>1</td>\n",
              "      <td>21</td>\n",
              "      <td>7</td>\n",
              "      <td>1</td>\n",
              "      <td>6</td>\n",
              "    </tr>\n",
              "    <tr>\n",
              "      <th>Speechiness - The higher the value the more spoken word the song contains</th>\n",
              "      <td>3</td>\n",
              "      <td>12</td>\n",
              "      <td>34</td>\n",
              "      <td>7</td>\n",
              "      <td>6</td>\n",
              "    </tr>\n",
              "    <tr>\n",
              "      <th>Popularity- The higher the value the more popular the song is</th>\n",
              "      <td>75</td>\n",
              "      <td>75</td>\n",
              "      <td>70</td>\n",
              "      <td>69</td>\n",
              "      <td>67</td>\n",
              "    </tr>\n",
              "  </tbody>\n",
              "</table>\n",
              "</div>\n",
              "      <button class=\"colab-df-convert\" onclick=\"convertToInteractive('df-ebee3f23-7b66-474d-b76d-1e8fa0033d6a')\"\n",
              "              title=\"Convert this dataframe to an interactive table.\"\n",
              "              style=\"display:none;\">\n",
              "        \n",
              "  <svg xmlns=\"http://www.w3.org/2000/svg\" height=\"24px\"viewBox=\"0 0 24 24\"\n",
              "       width=\"24px\">\n",
              "    <path d=\"M0 0h24v24H0V0z\" fill=\"none\"/>\n",
              "    <path d=\"M18.56 5.44l.94 2.06.94-2.06 2.06-.94-2.06-.94-.94-2.06-.94 2.06-2.06.94zm-11 1L8.5 8.5l.94-2.06 2.06-.94-2.06-.94L8.5 2.5l-.94 2.06-2.06.94zm10 10l.94 2.06.94-2.06 2.06-.94-2.06-.94-.94-2.06-.94 2.06-2.06.94z\"/><path d=\"M17.41 7.96l-1.37-1.37c-.4-.4-.92-.59-1.43-.59-.52 0-1.04.2-1.43.59L10.3 9.45l-7.72 7.72c-.78.78-.78 2.05 0 2.83L4 21.41c.39.39.9.59 1.41.59.51 0 1.02-.2 1.41-.59l7.78-7.78 2.81-2.81c.8-.78.8-2.07 0-2.86zM5.41 20L4 18.59l7.72-7.72 1.47 1.35L5.41 20z\"/>\n",
              "  </svg>\n",
              "      </button>\n",
              "      \n",
              "  <style>\n",
              "    .colab-df-container {\n",
              "      display:flex;\n",
              "      flex-wrap:wrap;\n",
              "      gap: 12px;\n",
              "    }\n",
              "\n",
              "    .colab-df-convert {\n",
              "      background-color: #E8F0FE;\n",
              "      border: none;\n",
              "      border-radius: 50%;\n",
              "      cursor: pointer;\n",
              "      display: none;\n",
              "      fill: #1967D2;\n",
              "      height: 32px;\n",
              "      padding: 0 0 0 0;\n",
              "      width: 32px;\n",
              "    }\n",
              "\n",
              "    .colab-df-convert:hover {\n",
              "      background-color: #E2EBFA;\n",
              "      box-shadow: 0px 1px 2px rgba(60, 64, 67, 0.3), 0px 1px 3px 1px rgba(60, 64, 67, 0.15);\n",
              "      fill: #174EA6;\n",
              "    }\n",
              "\n",
              "    [theme=dark] .colab-df-convert {\n",
              "      background-color: #3B4455;\n",
              "      fill: #D2E3FC;\n",
              "    }\n",
              "\n",
              "    [theme=dark] .colab-df-convert:hover {\n",
              "      background-color: #434B5C;\n",
              "      box-shadow: 0px 1px 3px 1px rgba(0, 0, 0, 0.15);\n",
              "      filter: drop-shadow(0px 1px 2px rgba(0, 0, 0, 0.3));\n",
              "      fill: #FFFFFF;\n",
              "    }\n",
              "  </style>\n",
              "\n",
              "      <script>\n",
              "        const buttonEl =\n",
              "          document.querySelector('#df-ebee3f23-7b66-474d-b76d-1e8fa0033d6a button.colab-df-convert');\n",
              "        buttonEl.style.display =\n",
              "          google.colab.kernel.accessAllowed ? 'block' : 'none';\n",
              "\n",
              "        async function convertToInteractive(key) {\n",
              "          const element = document.querySelector('#df-ebee3f23-7b66-474d-b76d-1e8fa0033d6a');\n",
              "          const dataTable =\n",
              "            await google.colab.kernel.invokeFunction('convertToInteractive',\n",
              "                                                     [key], {});\n",
              "          if (!dataTable) return;\n",
              "\n",
              "          const docLinkHtml = 'Like what you see? Visit the ' +\n",
              "            '<a target=\"_blank\" href=https://colab.research.google.com/notebooks/data_table.ipynb>data table notebook</a>'\n",
              "            + ' to learn more about interactive tables.';\n",
              "          element.innerHTML = '';\n",
              "          dataTable['output_type'] = 'display_data';\n",
              "          await google.colab.output.renderOutput(dataTable, element);\n",
              "          const docLink = document.createElement('div');\n",
              "          docLink.innerHTML = docLinkHtml;\n",
              "          element.appendChild(docLink);\n",
              "        }\n",
              "      </script>\n",
              "    </div>\n",
              "  </div>\n",
              "  "
            ]
          },
          "metadata": {},
          "execution_count": 5
        }
      ]
    },
    {
      "cell_type": "markdown",
      "source": [
        "Total no. of rows and columns"
      ],
      "metadata": {
        "id": "CrmHlqaq9h_V"
      }
    },
    {
      "cell_type": "code",
      "source": [
        "#No. of rows and columns\n",
        "df.shape"
      ],
      "metadata": {
        "colab": {
          "base_uri": "https://localhost:8080/"
        },
        "id": "zzC1oHX18ULr",
        "outputId": "292ac971-97a3-4753-8597-a181689afe94"
      },
      "execution_count": 6,
      "outputs": [
        {
          "output_type": "execute_result",
          "data": {
            "text/plain": [
              "(603, 14)"
            ]
          },
          "metadata": {},
          "execution_count": 6
        }
      ]
    },
    {
      "cell_type": "markdown",
      "source": [
        "Dataset Information"
      ],
      "metadata": {
        "id": "4EjHCNdp-8NI"
      }
    },
    {
      "cell_type": "code",
      "source": [
        "#Dataset Information\n",
        "df.info()"
      ],
      "metadata": {
        "id": "vzZl2km49paa",
        "colab": {
          "base_uri": "https://localhost:8080/"
        },
        "outputId": "d679c053-df54-4ccf-bfd6-578a76e8890b"
      },
      "execution_count": 7,
      "outputs": [
        {
          "output_type": "stream",
          "name": "stdout",
          "text": [
            "<class 'pandas.core.frame.DataFrame'>\n",
            "RangeIndex: 603 entries, 0 to 602\n",
            "Data columns (total 14 columns):\n",
            " #   Column                                                                         Non-Null Count  Dtype \n",
            "---  ------                                                                         --------------  ----- \n",
            " 0   title                                                                          603 non-null    object\n",
            " 1   artist                                                                         603 non-null    object\n",
            " 2   the genre of the track                                                         603 non-null    object\n",
            " 3   year                                                                           603 non-null    int64 \n",
            " 4   Beats.Per.Minute -The tempo of the song                                        603 non-null    int64 \n",
            " 5   Energy- The energy of a song - the higher the value, the more energtic         603 non-null    int64 \n",
            " 6   Danceability - The higher the value, the easier it is to dance to this song    603 non-null    int64 \n",
            " 7   Loudness/dB - The higher the value, the louder the song                        603 non-null    int64 \n",
            " 8   Liveness - The higher the value, the more likely the song is a live recording  603 non-null    int64 \n",
            " 9   Valence - The higher the value, the more positive mood for the song            603 non-null    int64 \n",
            " 10  Length - The duration of the song                                              603 non-null    int64 \n",
            " 11  Acousticness - The higher the value the more acoustic the song is              603 non-null    int64 \n",
            " 12  Speechiness - The higher the value the more spoken word the song contains      603 non-null    int64 \n",
            " 13  Popularity- The higher the value the more popular the song is                  603 non-null    int64 \n",
            "dtypes: int64(11), object(3)\n",
            "memory usage: 66.1+ KB\n"
          ]
        }
      ]
    },
    {
      "cell_type": "markdown",
      "source": [
        "Duplicate Value\n"
      ],
      "metadata": {
        "id": "E_SK45MRyqSy"
      }
    },
    {
      "cell_type": "code",
      "source": [
        "#Duplicate Values\n",
        "df.duplicated().sum()"
      ],
      "metadata": {
        "id": "-2_CnDN0_iRW",
        "colab": {
          "base_uri": "https://localhost:8080/"
        },
        "outputId": "2e65b39d-6d4d-40b7-fab6-406c52ad5299"
      },
      "execution_count": 8,
      "outputs": [
        {
          "output_type": "execute_result",
          "data": {
            "text/plain": [
              "0"
            ]
          },
          "metadata": {},
          "execution_count": 8
        }
      ]
    },
    {
      "cell_type": "markdown",
      "source": [
        "Null Values"
      ],
      "metadata": {
        "id": "jt1EDK6Vy-Ll"
      }
    },
    {
      "cell_type": "code",
      "source": [
        "# Missing Values/Null Values Count\n",
        "df.isna().sum()"
      ],
      "metadata": {
        "colab": {
          "base_uri": "https://localhost:8080/"
        },
        "id": "Q1Lt_nBvy4_W",
        "outputId": "bfc7f410-9416-4294-ac08-a18c59d881d5"
      },
      "execution_count": 9,
      "outputs": [
        {
          "output_type": "execute_result",
          "data": {
            "text/plain": [
              "title                                                                            0\n",
              "artist                                                                           0\n",
              "the genre of the track                                                           0\n",
              "year                                                                             0\n",
              "Beats.Per.Minute -The tempo of the song                                          0\n",
              "Energy- The energy of a song - the higher the value, the more energtic           0\n",
              "Danceability - The higher the value, the easier it is to dance to this song      0\n",
              "Loudness/dB - The higher the value, the louder the song                          0\n",
              "Liveness - The higher the value, the more likely the song is a live recording    0\n",
              "Valence - The higher the value, the more positive mood for the song              0\n",
              "Length - The duration of the song                                                0\n",
              "Acousticness - The higher the value the more acoustic the song is                0\n",
              "Speechiness - The higher the value the more spoken word the song contains        0\n",
              "Popularity- The higher the value the more popular the song is                    0\n",
              "dtype: int64"
            ]
          },
          "metadata": {},
          "execution_count": 9
        }
      ]
    },
    {
      "cell_type": "code",
      "source": [
        "# Visualizing the missing values\n",
        "msno.bar(df)"
      ],
      "metadata": {
        "colab": {
          "base_uri": "https://localhost:8080/",
          "height": 622
        },
        "id": "OdwJQPjFznI0",
        "outputId": "6e728216-c984-415e-e49e-639a4c1077e8"
      },
      "execution_count": 49,
      "outputs": [
        {
          "output_type": "execute_result",
          "data": {
            "text/plain": [
              "<Axes: >"
            ]
          },
          "metadata": {},
          "execution_count": 49
        },
        {
          "output_type": "display_data",
          "data": {
            "text/plain": [
              "<Figure size 2500x1000 with 3 Axes>"
            ],
            "image/png": "[encoded data removed]"
          },
          "metadata": {}
        }
      ]
    },
    {
      "cell_type": "markdown",
      "source": [
        "# **Understanding your variable**"
      ],
      "metadata": {
        "id": "PdbZgLVv0KIR"
      }
    },
    {
      "cell_type": "code",
      "source": [
        "# Dataset Columns\n",
        "df.columns"
      ],
      "metadata": {
        "colab": {
          "base_uri": "https://localhost:8080/"
        },
        "id": "BYtHEiVcz95Y",
        "outputId": "6e5e50cc-c511-4b8b-c4f4-2a9a9eef828c"
      },
      "execution_count": 11,
      "outputs": [
        {
          "output_type": "execute_result",
          "data": {
            "text/plain": [
              "Index(['title', 'artist', 'the genre of the track', 'year',\n",
              "       'Beats.Per.Minute -The tempo of the song',\n",
              "       'Energy- The energy of a song - the higher the value, the more energtic',\n",
              "       'Danceability - The higher the value, the easier it is to dance to this song',\n",
              "       'Loudness/dB - The higher the value, the louder the song',\n",
              "       'Liveness - The higher the value, the more likely the song is a live recording',\n",
              "       'Valence - The higher the value, the more positive mood for the song',\n",
              "       'Length - The duration of the song',\n",
              "       'Acousticness - The higher the value the more acoustic the song is',\n",
              "       'Speechiness - The higher the value the more spoken word the song contains',\n",
              "       'Popularity- The higher the value the more popular the song is'],\n",
              "      dtype='object')"
            ]
          },
          "metadata": {},
          "execution_count": 11
        }
      ]
    },
    {
      "cell_type": "markdown",
      "source": [
        "Variable Description"
      ],
      "metadata": {
        "id": "NHU6tLm-38Gd"
      }
    },
    {
      "cell_type": "code",
      "source": [
        "# Dataset Describe\n",
        "df.describe().T"
      ],
      "metadata": {
        "colab": {
          "base_uri": "https://localhost:8080/",
          "height": 394
        },
        "id": "sOTibCdm3361",
        "outputId": "9fdca21a-bbcd-4459-eda2-49d1cd3bdb1f"
      },
      "execution_count": 50,
      "outputs": [
        {
          "output_type": "execute_result",
          "data": {
            "text/plain": [
              "              count         mean        std     min     25%     50%     75%  \\\n",
              "year          603.0  2014.592040   2.607057  2010.0  2013.0  2015.0  2017.0   \n",
              "Temp          603.0   118.545605  24.795358     0.0   100.0   120.0   129.0   \n",
              "Energy        603.0    70.504146  16.310664     0.0    61.0    74.0    82.0   \n",
              "Danceablity   603.0    64.379768  13.378718     0.0    57.0    66.0    73.0   \n",
              "Loundness     603.0    -5.578773   2.798020   -60.0    -6.0    -5.0    -4.0   \n",
              "Liveness      603.0    17.774461  13.102543     0.0     9.0    12.0    24.0   \n",
              "Valence       603.0    52.225539  22.513020     0.0    35.0    52.0    69.0   \n",
              "Length        603.0   224.674959  34.130059   134.0   202.0   221.0   239.5   \n",
              "Acousticness  603.0    14.326700  20.766165     0.0     2.0     6.0    17.0   \n",
              "Speechiness   603.0     8.358209   7.483162     0.0     4.0     5.0     9.0   \n",
              "Popularity    603.0    66.520730  14.517746     0.0    60.0    69.0    76.0   \n",
              "\n",
              "                 max  \n",
              "year          2019.0  \n",
              "Temp           206.0  \n",
              "Energy          98.0  \n",
              "Danceablity     97.0  \n",
              "Loundness       -2.0  \n",
              "Liveness        74.0  \n",
              "Valence         98.0  \n",
              "Length         424.0  \n",
              "Acousticness    99.0  \n",
              "Speechiness     48.0  \n",
              "Popularity      99.0  "
            ],
            "text/html": [
              "\n",
              "  <div id=\"df-3f65c686-a010-448c-9af5-e352c45d81db\">\n",
              "    <div class=\"colab-df-container\">\n",
              "      <div>\n",
              "<style scoped>\n",
              "    .dataframe tbody tr th:only-of-type {\n",
              "        vertical-align: middle;\n",
              "    }\n",
              "\n",
              "    .dataframe tbody tr th {\n",
              "        vertical-align: top;\n",
              "    }\n",
              "\n",
              "    .dataframe thead th {\n",
              "        text-align: right;\n",
              "    }\n",
              "</style>\n",
              "<table border=\"1\" class=\"dataframe\">\n",
              "  <thead>\n",
              "    <tr style=\"text-align: right;\">\n",
              "      <th></th>\n",
              "      <th>count</th>\n",
              "      <th>mean</th>\n",
              "      <th>std</th>\n",
              "      <th>min</th>\n",
              "      <th>25%</th>\n",
              "      <th>50%</th>\n",
              "      <th>75%</th>\n",
              "      <th>max</th>\n",
              "    </tr>\n",
              "  </thead>\n",
              "  <tbody>\n",
              "    <tr>\n",
              "      <th>year</th>\n",
              "      <td>603.0</td>\n",
              "      <td>2014.592040</td>\n",
              "      <td>2.607057</td>\n",
              "      <td>2010.0</td>\n",
              "      <td>2013.0</td>\n",
              "      <td>2015.0</td>\n",
              "      <td>2017.0</td>\n",
              "      <td>2019.0</td>\n",
              "    </tr>\n",
              "    <tr>\n",
              "      <th>Temp</th>\n",
              "      <td>603.0</td>\n",
              "      <td>118.545605</td>\n",
              "      <td>24.795358</td>\n",
              "      <td>0.0</td>\n",
              "      <td>100.0</td>\n",
              "      <td>120.0</td>\n",
              "      <td>129.0</td>\n",
              "      <td>206.0</td>\n",
              "    </tr>\n",
              "    <tr>\n",
              "      <th>Energy</th>\n",
              "      <td>603.0</td>\n",
              "      <td>70.504146</td>\n",
              "      <td>16.310664</td>\n",
              "      <td>0.0</td>\n",
              "      <td>61.0</td>\n",
              "      <td>74.0</td>\n",
              "      <td>82.0</td>\n",
              "      <td>98.0</td>\n",
              "    </tr>\n",
              "    <tr>\n",
              "      <th>Danceablity</th>\n",
              "      <td>603.0</td>\n",
              "      <td>64.379768</td>\n",
              "      <td>13.378718</td>\n",
              "      <td>0.0</td>\n",
              "      <td>57.0</td>\n",
              "      <td>66.0</td>\n",
              "      <td>73.0</td>\n",
              "      <td>97.0</td>\n",
              "    </tr>\n",
              "    <tr>\n",
              "      <th>Loundness</th>\n",
              "      <td>603.0</td>\n",
              "      <td>-5.578773</td>\n",
              "      <td>2.798020</td>\n",
              "      <td>-60.0</td>\n",
              "      <td>-6.0</td>\n",
              "      <td>-5.0</td>\n",
              "      <td>-4.0</td>\n",
              "      <td>-2.0</td>\n",
              "    </tr>\n",
              "    <tr>\n",
              "      <th>Liveness</th>\n",
              "      <td>603.0</td>\n",
              "      <td>17.774461</td>\n",
              "      <td>13.102543</td>\n",
              "      <td>0.0</td>\n",
              "      <td>9.0</td>\n",
              "      <td>12.0</td>\n",
              "      <td>24.0</td>\n",
              "      <td>74.0</td>\n",
              "    </tr>\n",
              "    <tr>\n",
              "      <th>Valence</th>\n",
              "      <td>603.0</td>\n",
              "      <td>52.225539</td>\n",
              "      <td>22.513020</td>\n",
              "      <td>0.0</td>\n",
              "      <td>35.0</td>\n",
              "      <td>52.0</td>\n",
              "      <td>69.0</td>\n",
              "      <td>98.0</td>\n",
              "    </tr>\n",
              "    <tr>\n",
              "      <th>Length</th>\n",
              "      <td>603.0</td>\n",
              "      <td>224.674959</td>\n",
              "      <td>34.130059</td>\n",
              "      <td>134.0</td>\n",
              "      <td>202.0</td>\n",
              "      <td>221.0</td>\n",
              "      <td>239.5</td>\n",
              "      <td>424.0</td>\n",
              "    </tr>\n",
              "    <tr>\n",
              "      <th>Acousticness</th>\n",
              "      <td>603.0</td>\n",
              "      <td>14.326700</td>\n",
              "      <td>20.766165</td>\n",
              "      <td>0.0</td>\n",
              "      <td>2.0</td>\n",
              "      <td>6.0</td>\n",
              "      <td>17.0</td>\n",
              "      <td>99.0</td>\n",
              "    </tr>\n",
              "    <tr>\n",
              "      <th>Speechiness</th>\n",
              "      <td>603.0</td>\n",
              "      <td>8.358209</td>\n",
              "      <td>7.483162</td>\n",
              "      <td>0.0</td>\n",
              "      <td>4.0</td>\n",
              "      <td>5.0</td>\n",
              "      <td>9.0</td>\n",
              "      <td>48.0</td>\n",
              "    </tr>\n",
              "    <tr>\n",
              "      <th>Popularity</th>\n",
              "      <td>603.0</td>\n",
              "      <td>66.520730</td>\n",
              "      <td>14.517746</td>\n",
              "      <td>0.0</td>\n",
              "      <td>60.0</td>\n",
              "      <td>69.0</td>\n",
              "      <td>76.0</td>\n",
              "      <td>99.0</td>\n",
              "    </tr>\n",
              "  </tbody>\n",
              "</table>\n",
              "</div>\n",
              "      <button class=\"colab-df-convert\" onclick=\"convertToInteractive('df-3f65c686-a010-448c-9af5-e352c45d81db')\"\n",
              "              title=\"Convert this dataframe to an interactive table.\"\n",
              "              style=\"display:none;\">\n",
              "        \n",
              "  <svg xmlns=\"http://www.w3.org/2000/svg\" height=\"24px\"viewBox=\"0 0 24 24\"\n",
              "       width=\"24px\">\n",
              "    <path d=\"M0 0h24v24H0V0z\" fill=\"none\"/>\n",
              "    <path d=\"M18.56 5.44l.94 2.06.94-2.06 2.06-.94-2.06-.94-.94-2.06-.94 2.06-2.06.94zm-11 1L8.5 8.5l.94-2.06 2.06-.94-2.06-.94L8.5 2.5l-.94 2.06-2.06.94zm10 10l.94 2.06.94-2.06 2.06-.94-2.06-.94-.94-2.06-.94 2.06-2.06.94z\"/><path d=\"M17.41 7.96l-1.37-1.37c-.4-.4-.92-.59-1.43-.59-.52 0-1.04.2-1.43.59L10.3 9.45l-7.72 7.72c-.78.78-.78 2.05 0 2.83L4 21.41c.39.39.9.59 1.41.59.51 0 1.02-.2 1.41-.59l7.78-7.78 2.81-2.81c.8-.78.8-2.07 0-2.86zM5.41 20L4 18.59l7.72-7.72 1.47 1.35L5.41 20z\"/>\n",
              "  </svg>\n",
              "      </button>\n",
              "      \n",
              "  <style>\n",
              "    .colab-df-container {\n",
              "      display:flex;\n",
              "      flex-wrap:wrap;\n",
              "      gap: 12px;\n",
              "    }\n",
              "\n",
              "    .colab-df-convert {\n",
              "      background-color: #E8F0FE;\n",
              "      border: none;\n",
              "      border-radius: 50%;\n",
              "      cursor: pointer;\n",
              "      display: none;\n",
              "      fill: #1967D2;\n",
              "      height: 32px;\n",
              "      padding: 0 0 0 0;\n",
              "      width: 32px;\n",
              "    }\n",
              "\n",
              "    .colab-df-convert:hover {\n",
              "      background-color: #E2EBFA;\n",
              "      box-shadow: 0px 1px 2px rgba(60, 64, 67, 0.3), 0px 1px 3px 1px rgba(60, 64, 67, 0.15);\n",
              "      fill: #174EA6;\n",
              "    }\n",
              "\n",
              "    [theme=dark] .colab-df-convert {\n",
              "      background-color: #3B4455;\n",
              "      fill: #D2E3FC;\n",
              "    }\n",
              "\n",
              "    [theme=dark] .colab-df-convert:hover {\n",
              "      background-color: #434B5C;\n",
              "      box-shadow: 0px 1px 3px 1px rgba(0, 0, 0, 0.15);\n",
              "      filter: drop-shadow(0px 1px 2px rgba(0, 0, 0, 0.3));\n",
              "      fill: #FFFFFF;\n",
              "    }\n",
              "  </style>\n",
              "\n",
              "      <script>\n",
              "        const buttonEl =\n",
              "          document.querySelector('#df-3f65c686-a010-448c-9af5-e352c45d81db button.colab-df-convert');\n",
              "        buttonEl.style.display =\n",
              "          google.colab.kernel.accessAllowed ? 'block' : 'none';\n",
              "\n",
              "        async function convertToInteractive(key) {\n",
              "          const element = document.querySelector('#df-3f65c686-a010-448c-9af5-e352c45d81db');\n",
              "          const dataTable =\n",
              "            await google.colab.kernel.invokeFunction('convertToInteractive',\n",
              "                                                     [key], {});\n",
              "          if (!dataTable) return;\n",
              "\n",
              "          const docLinkHtml = 'Like what you see? Visit the ' +\n",
              "            '<a target=\"_blank\" href=https://colab.research.google.com/notebooks/data_table.ipynb>data table notebook</a>'\n",
              "            + ' to learn more about interactive tables.';\n",
              "          element.innerHTML = '';\n",
              "          dataTable['output_type'] = 'display_data';\n",
              "          await google.colab.output.renderOutput(dataTable, element);\n",
              "          const docLink = document.createElement('div');\n",
              "          docLink.innerHTML = docLinkHtml;\n",
              "          element.appendChild(docLink);\n",
              "        }\n",
              "      </script>\n",
              "    </div>\n",
              "  </div>\n",
              "  "
            ]
          },
          "metadata": {},
          "execution_count": 50
        }
      ]
    },
    {
      "cell_type": "markdown",
      "source": [
        "Checking Unique Value"
      ],
      "metadata": {
        "id": "KJ3a7eNZ6ZDT"
      }
    },
    {
      "cell_type": "code",
      "source": [
        "# Check Unique Values for each variable.\n",
        "df.nunique()"
      ],
      "metadata": {
        "id": "fU3DbujJ4BG1",
        "colab": {
          "base_uri": "https://localhost:8080/"
        },
        "outputId": "e6def431-38f4-4ed9-9b8d-be8112f05e36"
      },
      "execution_count": 13,
      "outputs": [
        {
          "output_type": "execute_result",
          "data": {
            "text/plain": [
              "title                                                                            584\n",
              "artist                                                                           184\n",
              "the genre of the track                                                            50\n",
              "year                                                                              10\n",
              "Beats.Per.Minute -The tempo of the song                                          104\n",
              "Energy- The energy of a song - the higher the value, the more energtic            77\n",
              "Danceability - The higher the value, the easier it is to dance to this song       70\n",
              "Loudness/dB - The higher the value, the louder the song                           14\n",
              "Liveness - The higher the value, the more likely the song is a live recording     61\n",
              "Valence - The higher the value, the more positive mood for the song               94\n",
              "Length - The duration of the song                                                144\n",
              "Acousticness - The higher the value the more acoustic the song is                 75\n",
              "Speechiness - The higher the value the more spoken word the song contains         39\n",
              "Popularity- The higher the value the more popular the song is                     71\n",
              "dtype: int64"
            ]
          },
          "metadata": {},
          "execution_count": 13
        }
      ]
    },
    {
      "cell_type": "markdown",
      "source": [
        "# **Data Wrangling**"
      ],
      "metadata": {
        "id": "A2ViZWVnLa_2"
      }
    },
    {
      "cell_type": "code",
      "source": [
        "#Renaming the columns\n",
        "df.rename(columns = {'the genre of the track':'Genre','Beats.Per.Minute -The tempo of the song':'Temp','Energy- The energy of a song - the higher the value the more energtic':'Energy','Danceability - The higher the value, the easier it is to dance to this song':'Danceablity','Loudness/dB - The higher the value, the louder the song':'Loundness','Liveness - The higher the value, the more likely the song is a live recording':'Liveness','Valence - The higher the value, the more positive mood for the song':'Valence','Length - The duration of the song':'Length','Acousticness - The higher the value the more acoustic the song is':'Acousticness','Speechiness - The higher the value the more spoken word the song contains':'Speechiness','Popularity- The higher the value the more popular the song is':'Popularity'}, inplace=True)\n"
      ],
      "metadata": {
        "id": "IS6F-FhrLV52"
      },
      "execution_count": 43,
      "outputs": []
    },
    {
      "cell_type": "code",
      "source": [
        "df.columns"
      ],
      "metadata": {
        "colab": {
          "base_uri": "https://localhost:8080/"
        },
        "id": "QdGiQTUVQrZc",
        "outputId": "797817c9-d66b-4813-9bc7-028e9a69e307"
      },
      "execution_count": 45,
      "outputs": [
        {
          "output_type": "execute_result",
          "data": {
            "text/plain": [
              "Index(['title', 'artist', 'Genre', 'year', 'Temp', 'Energy', 'Danceablity',\n",
              "       'Loundness', 'Liveness', 'Valence', 'Length', 'Acousticness',\n",
              "       'Speechiness', 'Popularity'],\n",
              "      dtype='object')"
            ]
          },
          "metadata": {},
          "execution_count": 45
        }
      ]
    },
    {
      "cell_type": "code",
      "source": [
        "#checking outliers\n",
        "C = ['year','Temp','Energy','Danceablity','Loundness','Liveness','Valence','Length','Acousticness','Speechiness', 'Popularity']\n",
        "n = 1\n",
        "plt.figure(figsize=(18,12))\n",
        "\n",
        "for i in C:\n",
        "  plt.subplot(6,3,n)\n",
        "  n=n+1\n",
        "  sns.boxplot(df[i])\n",
        "  plt.title(i)\n",
        "  plt.tight_layout()"
      ],
      "metadata": {
        "colab": {
          "base_uri": "https://localhost:8080/",
          "height": 580
        },
        "id": "hvyY6ed-R2X2",
        "outputId": "0ff64bff-b926-4426-e6c7-4f2512d9044c"
      },
      "execution_count": 48,
      "outputs": [
        {
          "output_type": "display_data",
          "data": {
            "text/plain": [
              "<Figure size 1800x1200 with 11 Axes>"
            ],
            "image/png": "[encoded data removed]"
          },
          "metadata": {}
        }
      ]
    },
    {
      "cell_type": "code",
      "source": [],
      "metadata": {
        "id": "NB9mADbKS_lh"
      },
      "execution_count": null,
      "outputs": []
    }
  ]
}